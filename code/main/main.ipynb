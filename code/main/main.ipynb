{
 "cells": [
  {
   "cell_type": "code",
   "execution_count": 1,
   "metadata": {
    "collapsed": true
   },
   "outputs": [],
   "source": [
    "import imagepreprocessing.resizing as resizing\n",
    "import imagepreprocessing.reading as reading\n",
    "import numpy as np\n",
    "from PIL import Image"
   ]
  },
  {
   "cell_type": "code",
   "execution_count": null,
   "metadata": {
    "collapsed": true
   },
   "outputs": [],
   "source": []
  },
  {
   "cell_type": "code",
   "execution_count": null,
   "metadata": {
    "collapsed": true
   },
   "outputs": [],
   "source": []
  },
  {
   "cell_type": "code",
   "execution_count": 2,
   "metadata": {},
   "outputs": [
    {
     "name": "stdout",
     "output_type": "stream",
     "text": [
      "<PIL.TiffImagePlugin.TiffImageFile image mode=L size=30x23 at 0x7F0487365A50>\n"
     ]
    },
    {
     "data": {
      "image/png": "[encoded data removed]",
      "text/plain": [
       "<PIL.TiffImagePlugin.TiffImageFile image mode=L size=30x23 at 0x7F0487365A50>"
      ]
     },
     "execution_count": 2,
     "metadata": {},
     "output_type": "execute_result"
    }
   ],
   "source": [
    "img = Image.open(\"/home/sari/Desktop/test-test-3/Object_Test_13.tif\")\n",
    "print img\n",
    "img"
   ]
  },
  {
   "cell_type": "code",
   "execution_count": 3,
   "metadata": {},
   "outputs": [
    {
     "name": "stdout",
     "output_type": "stream",
     "text": [
      "30\n",
      "23\n"
     ]
    },
    {
     "data": {
      "image/png": "[encoded data removed]",
      "text/plain": [
       "<PIL.Image.Image image mode=L size=300x230 at 0x7F04C843AE90>"
      ]
     },
     "execution_count": 3,
     "metadata": {},
     "output_type": "execute_result"
    }
   ],
   "source": [
    "factor = 10\n",
    "w, h  = img.size\n",
    "print w\n",
    "print h\n",
    "res = img.resize((int(w*factor), int(h*factor)))\n",
    "res"
   ]
  },
  {
   "cell_type": "code",
   "execution_count": null,
   "metadata": {
    "collapsed": true
   },
   "outputs": [],
   "source": []
  },
  {
   "cell_type": "code",
   "execution_count": 4,
   "metadata": {},
   "outputs": [
    {
     "data": {
      "image/png": "[encoded data removed]",
      "text/plain": [
       "<PIL.Image.Image image mode=L size=28x28 at 0x7F04C843A150>"
      ]
     },
     "execution_count": 4,
     "metadata": {},
     "output_type": "execute_result"
    }
   ],
   "source": [
    "resized = img.resize((28, 28))\n",
    "imgarr = np.array(resized)\n",
    "resized"
   ]
  },
  {
   "cell_type": "code",
   "execution_count": 5,
   "metadata": {},
   "outputs": [
    {
     "name": "stdout",
     "output_type": "stream",
     "text": [
      "206\n",
      "(206, 30, 30, 1)\n",
      "130\n",
      "[130]\n"
     ]
    }
   ],
   "source": [
    "images = reading.read_images()\n",
    "res_images = np.array([np.array(img.resize((30,30))) for img in images])\n",
    "resh = res_images.reshape((res_images.shape[0],30, 30, 1))\n",
    "print res_images.shape[0]\n",
    "print resh.shape\n",
    "print res_images[0][0][0]\n",
    "print resh[0][0][0]"
   ]
  },
  {
   "cell_type": "code",
   "execution_count": 6,
   "metadata": {},
   "outputs": [
    {
     "name": "stdout",
     "output_type": "stream",
     "text": [
      "(100,)\n",
      "[[0 0 1]\n",
      " [1 0 0]\n",
      " [0 1 0]\n",
      " [0 0 1]\n",
      " [0 0 1]\n",
      " [0 1 0]\n",
      " [0 1 0]\n",
      " [0 0 1]\n",
      " [0 0 1]\n",
      " [1 0 0]\n",
      " [0 1 0]\n",
      " [0 1 0]\n",
      " [0 0 1]\n",
      " [0 0 1]\n",
      " [0 0 1]\n",
      " [0 0 1]\n",
      " [1 0 0]\n",
      " [0 0 1]\n",
      " [0 0 1]\n",
      " [0 0 1]\n",
      " [0 0 1]\n",
      " [0 0 1]\n",
      " [0 0 1]\n",
      " [0 0 1]\n",
      " [1 0 0]\n",
      " [0 1 0]\n",
      " [0 1 0]\n",
      " [0 0 1]\n",
      " [0 0 1]\n",
      " [0 0 1]\n",
      " [1 0 0]\n",
      " [1 0 0]\n",
      " [0 1 0]\n",
      " [0 1 0]\n",
      " [0 0 1]\n",
      " [0 0 1]\n",
      " [0 0 1]\n",
      " [0 0 1]\n",
      " [0 0 1]\n",
      " [0 0 1]\n",
      " [0 0 1]\n",
      " [0 0 1]\n",
      " [0 0 1]\n",
      " [1 0 0]\n",
      " [1 0 0]\n",
      " [0 1 0]\n",
      " [0 0 1]\n",
      " [1 0 0]\n",
      " [1 0 0]\n",
      " [0 0 1]\n",
      " [0 0 1]\n",
      " [1 0 0]\n",
      " [0 0 1]\n",
      " [1 0 0]\n",
      " [0 1 0]\n",
      " [0 0 1]\n",
      " [0 0 1]\n",
      " [1 0 0]\n",
      " [1 0 0]\n",
      " [1 0 0]\n",
      " [0 0 1]\n",
      " [1 0 0]\n",
      " [1 0 0]\n",
      " [1 0 0]\n",
      " [1 0 0]\n",
      " [0 0 1]\n",
      " [0 0 1]\n",
      " [0 0 1]\n",
      " [0 0 1]\n",
      " [0 0 1]\n",
      " [0 0 1]\n",
      " [0 0 1]\n",
      " [1 0 0]\n",
      " [1 0 0]\n",
      " [0 0 1]\n",
      " [0 0 1]\n",
      " [0 0 1]\n",
      " [1 0 0]\n",
      " [0 0 1]\n",
      " [0 0 1]\n",
      " [0 0 1]\n",
      " [0 0 1]\n",
      " [0 0 1]\n",
      " [0 1 0]\n",
      " [0 1 0]\n",
      " [0 0 1]\n",
      " [0 0 1]\n",
      " [0 0 1]\n",
      " [1 0 0]\n",
      " [1 0 0]\n",
      " [0 0 1]\n",
      " [0 0 1]\n",
      " [0 1 0]\n",
      " [1 0 0]\n",
      " [1 0 0]\n",
      " [0 1 0]\n",
      " [1 0 0]\n",
      " [1 0 0]\n",
      " [1 0 0]\n",
      " [1 0 0]]\n"
     ]
    },
    {
     "data": {
      "text/plain": [
       "array([[1, 0, 0],\n",
       "       [0, 1, 0],\n",
       "       [0, 1, 0],\n",
       "       [0, 0, 1],\n",
       "       [0, 1, 0],\n",
       "       [1, 0, 0],\n",
       "       [0, 0, 1],\n",
       "       [0, 0, 1],\n",
       "       [0, 1, 0],\n",
       "       [0, 0, 1],\n",
       "       [0, 1, 0],\n",
       "       [1, 0, 0],\n",
       "       [0, 0, 1],\n",
       "       [1, 0, 0],\n",
       "       [1, 0, 0],\n",
       "       [0, 1, 0],\n",
       "       [1, 0, 0],\n",
       "       [1, 0, 0],\n",
       "       [0, 0, 1],\n",
       "       [0, 1, 0],\n",
       "       [1, 0, 0],\n",
       "       [0, 0, 1],\n",
       "       [0, 1, 0],\n",
       "       [1, 0, 0],\n",
       "       [0, 0, 1],\n",
       "       [0, 1, 0],\n",
       "       [1, 0, 0],\n",
       "       [1, 0, 0],\n",
       "       [0, 0, 1],\n",
       "       [0, 0, 1],\n",
       "       [1, 0, 0],\n",
       "       [1, 0, 0],\n",
       "       [0, 0, 1],\n",
       "       [0, 0, 1],\n",
       "       [0, 0, 1],\n",
       "       [1, 0, 0],\n",
       "       [1, 0, 0],\n",
       "       [0, 1, 0],\n",
       "       [0, 1, 0],\n",
       "       [0, 0, 1],\n",
       "       [0, 0, 1],\n",
       "       [0, 0, 1],\n",
       "       [1, 0, 0],\n",
       "       [1, 0, 0],\n",
       "       [0, 0, 1],\n",
       "       [0, 0, 1],\n",
       "       [0, 0, 1],\n",
       "       [0, 0, 1],\n",
       "       [1, 0, 0],\n",
       "       [0, 0, 1]])"
      ]
     },
     "execution_count": 6,
     "metadata": {},
     "output_type": "execute_result"
    }
   ],
   "source": [
    "classes = [2, 0, 1, 2, 2,\n",
    "           1, 1, 2, 2, 0,\n",
    "           1, 1, 2, 2, 2,\n",
    "           2, 0, 2, 2, 2,\n",
    "           2, 2, 2, 2, 0,\n",
    "           1, 1, 2, 2, 2,\n",
    "           0, 0, 1, 1, 2,\n",
    "           2, 2, 2, 2, 2,\n",
    "           2, 2, 2, 0, 0,\n",
    "           1, 2, 0, 0, 2,\n",
    "           2, 0, 2, 0, 1,\n",
    "           2, 2, 0, 0, 0,\n",
    "           2, 0, 0, 0, 0,\n",
    "           2, 2, 2, 2, 2,\n",
    "           2, 2, 0, 0, 2,\n",
    "           2, 2, 0, 2, 2,\n",
    "           2, 2, 2, 1, 1,\n",
    "           2, 2, 2, 0, 0,\n",
    "           2, 2, 1, 0, 0,\n",
    "           1, 0, 0, 0, 0]\n",
    "arr = np.array(classes)\n",
    "print arr.shape\n",
    "parsed = []\n",
    "for c in classes:\n",
    "    if c == 0:\n",
    "        parsed.append([1,0,0])\n",
    "    elif c == 1:\n",
    "        parsed.append([0,1,0])\n",
    "    elif c == 2:\n",
    "        parsed.append([0,0,1])\n",
    "arr = np.array(parsed)\n",
    "print arr\n",
    "arr[np.random.choice(len(parsed), 50), :]"
   ]
  },
  {
   "cell_type": "code",
   "execution_count": 7,
   "metadata": {},
   "outputs": [
    {
     "name": "stdout",
     "output_type": "stream",
     "text": [
      "[[  9.99175847e-01   9.18735896e-05   7.32334855e-04]\n",
      " [  6.01465639e-04   1.50815263e-01   8.48583281e-01]\n",
      " [  8.74830969e-03   2.63188869e-01   7.28062809e-01]\n",
      " [  6.50103530e-03   2.55979270e-01   7.37519681e-01]\n",
      " [  7.32723449e-04   1.52511954e-01   8.46755326e-01]\n",
      " [  5.04478276e-01   1.66786566e-01   3.28735113e-01]\n",
      " [  5.40275812e-01   2.21192241e-01   2.38531917e-01]\n",
      " [  3.76377016e-01   2.82796890e-01   3.40826154e-01]\n",
      " [  5.84620178e-01   1.72932222e-01   2.42447600e-01]\n",
      " [  8.70143533e-01   4.95410003e-02   8.03155601e-02]\n",
      " [  8.06397021e-01   8.71603340e-02   1.06442630e-01]\n",
      " [  6.57522619e-01   7.48747289e-02   2.67602682e-01]\n",
      " [  3.28996897e-01   3.34744304e-01   3.36258769e-01]\n",
      " [  9.88074720e-01   3.25965928e-03   8.66562314e-03]\n",
      " [  1.37910461e-02   3.18966180e-01   6.67242765e-01]\n",
      " [  7.82691967e-03   2.88490504e-01   7.03682601e-01]\n",
      " [  1.81018546e-01   3.16021979e-01   5.02959490e-01]\n",
      " [  9.97015595e-01   7.29062769e-04   2.25535990e-03]\n",
      " [  9.47423160e-01   2.05737501e-02   3.20029818e-02]\n",
      " [  1.77975371e-02   3.25997382e-01   6.56205058e-01]\n",
      " [  1.10427430e-02   2.92949021e-01   6.96008265e-01]\n",
      " [  7.84648478e-01   9.01859626e-02   1.25165567e-01]\n",
      " [  3.62803526e-02   3.95355552e-01   5.68364084e-01]\n",
      " [  9.33462679e-01   1.50654819e-02   5.14717810e-02]\n",
      " [  9.83744621e-01   5.39729604e-03   1.08580235e-02]\n",
      " [  1.53273614e-02   3.11859161e-01   6.72813475e-01]\n",
      " [  1.17604726e-03   1.60061583e-01   8.38762343e-01]\n",
      " [  3.52267805e-03   2.47137547e-01   7.49339819e-01]\n",
      " [  3.27203482e-01   2.56974876e-01   4.15821701e-01]\n",
      " [  8.80411208e-01   5.47561310e-02   6.48325905e-02]\n",
      " [  9.12203729e-01   3.26935910e-02   5.51026314e-02]\n",
      " [  1.49720116e-03   1.84457123e-01   8.14045668e-01]\n",
      " [  5.52155226e-02   3.48417878e-01   5.96366644e-01]\n",
      " [  2.84345914e-02   3.44176799e-01   6.27388656e-01]\n",
      " [  1.17787113e-02   2.96798468e-01   6.91422820e-01]\n",
      " [  5.89608401e-02   3.76219273e-01   5.64819872e-01]\n",
      " [  4.97437507e-01   2.17859358e-01   2.84703165e-01]\n",
      " [  9.76818442e-01   5.89971943e-03   1.72818881e-02]\n",
      " [  7.68125653e-01   8.33707973e-02   1.48503602e-01]\n",
      " [  5.20573735e-01   1.60577640e-01   3.18848670e-01]\n",
      " [  1.54636670e-02   3.13663155e-01   6.70873225e-01]\n",
      " [  1.69713587e-01   3.34017873e-01   4.96268481e-01]\n",
      " [  9.74307120e-01   7.56849162e-03   1.81244686e-02]\n",
      " [  4.80954256e-03   2.43950471e-01   7.51240015e-01]\n",
      " [  9.45450962e-02   2.10902169e-01   6.94552720e-01]\n",
      " [  9.79011595e-01   5.14748367e-03   1.58409420e-02]\n",
      " [  9.80862752e-02   3.84391606e-01   5.17522097e-01]\n",
      " [  5.25663868e-02   3.92606795e-01   5.54826796e-01]\n",
      " [  6.08769245e-03   2.56447822e-01   7.37464547e-01]\n",
      " [  3.37333395e-03   2.30715841e-01   7.65910864e-01]\n",
      " [  6.12135753e-02   3.89385521e-01   5.49400926e-01]\n",
      " [  9.83627796e-01   5.11862431e-03   1.12535832e-02]\n",
      " [  4.02884185e-03   2.48655170e-01   7.47315943e-01]\n",
      " [  8.39193016e-02   3.93442512e-01   5.22638142e-01]\n",
      " [  2.87352921e-03   2.04901233e-01   7.92225182e-01]\n",
      " [  3.11143119e-02   3.63266200e-01   6.05619550e-01]\n",
      " [  6.75005317e-01   1.25029609e-01   1.99965030e-01]\n",
      " [  3.26010282e-03   2.29598314e-01   7.67141581e-01]\n",
      " [  8.20744131e-03   2.85222709e-01   7.06569850e-01]\n",
      " [  2.53352034e-03   2.13131294e-01   7.84335136e-01]\n",
      " [  2.76059471e-02   2.75760323e-01   6.96633756e-01]\n",
      " [  1.56768225e-02   3.24410796e-01   6.59912348e-01]\n",
      " [  2.31868192e-03   2.03947157e-01   7.93734133e-01]\n",
      " [  2.35578399e-02   3.46769363e-01   6.29672766e-01]\n",
      " [  8.41771305e-01   6.00470230e-02   9.81816947e-02]\n",
      " [  8.74889731e-01   4.68848161e-02   7.82255009e-02]\n",
      " [  3.72853316e-03   2.24578336e-01   7.71693110e-01]\n",
      " [  2.07916554e-03   2.04224706e-01   7.93696165e-01]\n",
      " [  4.56050457e-03   2.46379957e-01   7.49059498e-01]\n",
      " [  8.95651150e-03   2.81008512e-01   7.10035026e-01]\n",
      " [  6.78989351e-01   1.35256603e-01   1.85754091e-01]\n",
      " [  3.99994897e-03   2.37698123e-01   7.58301973e-01]\n",
      " [  8.59739065e-01   5.28438129e-02   8.74171630e-02]\n",
      " [  9.67171043e-03   2.85322040e-01   7.05006242e-01]\n",
      " [  5.09780040e-03   2.51090109e-01   7.43812084e-01]\n",
      " [  2.23273225e-02   3.35319430e-01   6.42353237e-01]\n",
      " [  1.37796653e-02   3.22369248e-01   6.63851082e-01]\n",
      " [  8.87412727e-01   3.75536345e-02   7.50336722e-02]\n",
      " [  4.21770569e-03   2.35719383e-01   7.60062933e-01]\n",
      " [  1.86901651e-02   2.88531452e-01   6.92778349e-01]\n",
      " [  1.81027991e-03   1.85042009e-01   8.13147783e-01]\n",
      " [  8.47789422e-02   3.47056329e-01   5.68164706e-01]\n",
      " [  3.39389290e-03   2.29879528e-01   7.66726553e-01]\n",
      " [  2.00392887e-01   4.50109690e-01   3.49497437e-01]\n",
      " [  4.99529511e-01   9.74219516e-02   4.03048545e-01]\n",
      " [  3.83303175e-03   2.32236058e-01   7.63930917e-01]\n",
      " [  4.24464554e-01   1.89191893e-01   3.86343479e-01]\n",
      " [  9.37957689e-03   2.89550066e-01   7.01070309e-01]\n",
      " [  8.55814014e-03   2.66208529e-01   7.25233316e-01]\n",
      " [  1.97252873e-02   3.22893620e-01   6.57381058e-01]\n",
      " [  9.62234795e-01   1.40729863e-02   2.36921906e-02]\n",
      " [  1.22540161e-01   2.87649482e-01   5.89810371e-01]\n",
      " [  9.86251514e-04   1.73621207e-01   8.25392544e-01]\n",
      " [  1.91910844e-03   2.01027960e-01   7.97052979e-01]\n",
      " [  1.17630372e-02   2.92302579e-01   6.95934415e-01]\n",
      " [  1.06623713e-02   2.82300323e-01   7.07037330e-01]\n",
      " [  6.79367734e-03   2.59104460e-01   7.34101832e-01]\n",
      " [  1.71358068e-03   1.97448194e-01   8.00838232e-01]\n",
      " [  1.82217523e-03   1.92705274e-01   8.05472612e-01]\n",
      " [  1.05818557e-02   2.91216344e-01   6.98201776e-01]]\n",
      "[0 2 2 2 2 0 0 0 0 0 0 0 2 0 2 2 2 0 0 2 2 0 2 0 0 2 2 2 2 0 0 2 2 2 2 2 0\n",
      " 0 0 0 2 2 0 2 2 0 2 2 2 2 2 0 2 2 2 2 0 2 2 2 2 2 2 2 0 0 2 2 2 2 0 2 0 2\n",
      " 2 2 2 0 2 2 2 2 2 1 0 2 0 2 2 2 0 2 2 2 2 2 2 2 2 2]\n"
     ]
    }
   ],
   "source": [
    "import tensorflow as tf\n",
    "\n",
    "tf.set_random_seed(0)\n",
    "\n",
    "# neural network with 5 layers\n",
    "#\n",
    "# · · · · · · · · · ·          (input data, flattened pixels)       X [batch, 784]   # 784 = 28*28\n",
    "# \\x/x\\x/x\\x/x\\x/x\\x/       -- fully connected layer (sigmoid)      W1 [784, 200]      B1[200]\n",
    "#  · · · · · · · · ·                                                Y1 [batch, 200]\n",
    "#   \\x/x\\x/x\\x/x\\x/         -- fully connected layer (sigmoid)      W2 [200, 100]      B2[100]\n",
    "#    · · · · · · ·                                                  Y2 [batch, 100]\n",
    "#     \\x/x\\x/x\\x/           -- fully connected layer (sigmoid)      W3 [100, 60]       B3[60]\n",
    "#      · · · · ·                                                    Y3 [batch, 60]\n",
    "#       \\x/x\\x/             -- fully connected layer (sigmoid)      W4 [60, 30]        B4[30]\n",
    "#        · · ·                                                      Y4 [batch, 30]\n",
    "#         \\x/               -- fully connected layer (softmax)      W5 [30, 10]        B5[10]\n",
    "#          ·                                                        Y5 [batch, 10]\n",
    "\n",
    "# Download images and labels into mnist.test (10K images+labels) and mnist.train (60K images+labels)\n",
    "\n",
    "# input X: 28x28 grayscale images, the first dimension (None) will index the images in the mini-batch\n",
    "X = tf.placeholder(tf.float32, [None, 28, 28, 1])\n",
    "# correct answers will go here\n",
    "Y_ = tf.placeholder(tf.float32, [None, 3])\n",
    "\n",
    "# five layers and their number of neurons (tha last layer has 10 softmax neurons)\n",
    "L = 200\n",
    "M = 100\n",
    "N = 60\n",
    "O = 30\n",
    "# Weights initialised with small random values between -0.2 and +0.2\n",
    "# When using RELUs, make sure biases are initialised with small *positive* values for example 0.1 = tf.ones([K])/10\n",
    "W1 = tf.Variable(tf.truncated_normal([784, L], stddev=0.1))  # 784 = 28 * 28\n",
    "B1 = tf.Variable(tf.zeros([L]))\n",
    "W2 = tf.Variable(tf.truncated_normal([L, M], stddev=0.1))\n",
    "B2 = tf.Variable(tf.zeros([M]))\n",
    "W3 = tf.Variable(tf.truncated_normal([M, N], stddev=0.1))\n",
    "B3 = tf.Variable(tf.zeros([N]))\n",
    "W4 = tf.Variable(tf.truncated_normal([N, O], stddev=0.1))\n",
    "B4 = tf.Variable(tf.zeros([O]))\n",
    "W5 = tf.Variable(tf.truncated_normal([O, 3], stddev=0.1))\n",
    "B5 = tf.Variable(tf.zeros([3]))\n",
    "\n",
    "# The model\n",
    "XX = tf.reshape(X, [-1, 784])\n",
    "Y1 = tf.nn.relu(tf.matmul(XX, W1) + B1)\n",
    "Y2 = tf.nn.relu(tf.matmul(Y1, W2) + B2)\n",
    "Y3 = tf.nn.relu(tf.matmul(Y2, W3) + B3)\n",
    "Y4 = tf.nn.relu(tf.matmul(Y3, W4) + B4)\n",
    "Ylogits = tf.matmul(Y4, W5) + B5\n",
    "Y = tf.nn.softmax(Ylogits)\n",
    "\n",
    "# cross-entropy loss function (= -sum(Y_i * log(Yi)) ), normalised for batches of 100  images\n",
    "# TensorFlow provides the softmax_cross_entropy_with_logits function to avoid numerical stability\n",
    "# problems with log(0) which is NaN\n",
    "cross_entropy = tf.nn.softmax_cross_entropy_with_logits(logits=Ylogits, labels=Y_)\n",
    "cross_entropy = tf.reduce_mean(cross_entropy)*100\n",
    "\n",
    "# accuracy of the trained model, between 0 (worst) and 1 (best)\n",
    "correct_prediction = tf.equal(tf.argmax(Y, 1), tf.argmax(Y_, 1))\n",
    "accuracy = tf.reduce_mean(tf.cast(correct_prediction, tf.float32))\n",
    "\n",
    "# training step, learning rate = 0.003\n",
    "learning_rate = 0.003\n",
    "train_step = tf.train.AdamOptimizer(learning_rate).minimize(cross_entropy)\n",
    "\n",
    "# init\n",
    "init = tf.global_variables_initializer()\n",
    "saver = tf.train.Saver()\n",
    "with tf.Session() as sess:\n",
    "    saver.restore(sess, \"./my_model_final.ckpt\")\n",
    "    batch_X = reading.get_test_data()\n",
    "    class_step = Y.eval(feed_dict={X: batch_X})\n",
    "    print class_step\n",
    "    print np.argmax(class_step, axis=1)\n",
    "    sess.close()"
   ]
  },
  {
   "cell_type": "code",
   "execution_count": null,
   "metadata": {
    "collapsed": true
   },
   "outputs": [],
   "source": []
  },
  {
   "cell_type": "code",
   "execution_count": null,
   "metadata": {
    "collapsed": true
   },
   "outputs": [],
   "source": []
  },
  {
   "cell_type": "code",
   "execution_count": 8,
   "metadata": {
    "collapsed": true
   },
   "outputs": [],
   "source": [
    "saver = tf.train.Saver()\n"
   ]
  }
 ],
 "metadata": {
  "kernelspec": {
   "display_name": "Python 2",
   "language": "python",
   "name": "python2"
  },
  "language_info": {
   "codemirror_mode": {
    "name": "ipython",
    "version": 2
   },
   "file_extension": ".py",
   "mimetype": "text/x-python",
   "name": "python",
   "nbconvert_exporter": "python",
   "pygments_lexer": "ipython2",
   "version": "2.7.12"
  }
 },
 "nbformat": 4,
 "nbformat_minor": 2
}
